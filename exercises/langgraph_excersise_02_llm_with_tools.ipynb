{
 "cells": [
  {
   "cell_type": "markdown",
   "metadata": {},
   "source": [
    "### Second Excersie of Langraph tutorial - LLM with Tools Binding\n",
    "\n",
    "---\n",
    "\n",
    "installing core dependencies"
   ]
  },
  {
   "cell_type": "code",
   "execution_count": 1,
   "metadata": {},
   "outputs": [],
   "source": [
    "%%capture --no-stderr\n",
    "%pip install -q langchain_google_genai langchain_core langgraph langchain_community"
   ]
  },
  {
   "cell_type": "markdown",
   "metadata": {},
   "source": [
    "If you're using google colab so load environment in that way"
   ]
  },
  {
   "cell_type": "code",
   "execution_count": null,
   "metadata": {},
   "outputs": [],
   "source": [
    "import os\n",
    "from google.colab import userdata\n",
    "\n",
    "os.environ['GOOGLE_API_KEY'] = userdata.get('GEMINI_API_KEY')"
   ]
  },
  {
   "cell_type": "markdown",
   "metadata": {},
   "source": [
    "if you're working locally so you need to load environment in that way"
   ]
  },
  {
   "cell_type": "code",
   "execution_count": 3,
   "metadata": {},
   "outputs": [],
   "source": [
    "%%capture --no-stderr\n",
    "%pip install python-dotenv"
   ]
  },
  {
   "cell_type": "markdown",
   "metadata": {},
   "source": [
    "create `.env` file in project directory"
   ]
  },
  {
   "cell_type": "code",
   "execution_count": 4,
   "metadata": {},
   "outputs": [],
   "source": [
    "from dotenv import load_dotenv\n",
    "import os\n",
    "\n",
    "load_dotenv()  # Load variables from .env file\n",
    "\n",
    "os.environ['GOOGLE_API_KEY'] = os.getenv('GOOGLE_API_KEY')"
   ]
  },
  {
   "cell_type": "markdown",
   "metadata": {},
   "source": [
    "I'm using Gemini Model, so you can use what you like, make sure to install langchain specific package for require Model, and set `API_KEY` accordingly\n",
    "\n",
    "- Now Initializing Gemini LLM"
   ]
  },
  {
   "cell_type": "code",
   "execution_count": 5,
   "metadata": {},
   "outputs": [],
   "source": [
    "from langchain_google_genai import ChatGoogleGenerativeAI\n",
    "\n",
    "llm = ChatGoogleGenerativeAI(model=\"gemini-1.5-pro\", temprature=0.4)"
   ]
  },
  {
   "cell_type": "markdown",
   "metadata": {},
   "source": [
    "I'm creating tool function which I'll be using with llm"
   ]
  },
  {
   "cell_type": "code",
   "execution_count": 13,
   "metadata": {},
   "outputs": [],
   "source": [
    "# Please make sure to put DOCSTRING in the function, so that the function can be used by LLM\n",
    "def deposit_money(acc_number:str, amount:int, acc_holder_name:str):\n",
    "    \"\"\"\n",
    "    This is a tool function which should work with LLM\n",
    "    This function will deposit money to the account\n",
    "\n",
    "    Args:\n",
    "        acc_number: str : Account number\n",
    "        amount: int : Amount to deposit\n",
    "        acc_holder_name: str : Account holder name\n",
    "\n",
    "    Returns:\n",
    "        str : Deposit message\n",
    "    \"\"\"\n",
    "    # Your Actual Logic Here\n",
    "    # ======================\n",
    "    return f\"Deposited {amount} to account {acc_number} of {acc_holder_name}\""
   ]
  },
  {
   "cell_type": "markdown",
   "metadata": {},
   "source": [
    "Now I have to bind this tool with llm"
   ]
  },
  {
   "cell_type": "code",
   "execution_count": 14,
   "metadata": {},
   "outputs": [],
   "source": [
    "llm_t = llm.bind_tools([deposit_money])"
   ]
  },
  {
   "cell_type": "markdown",
   "metadata": {},
   "source": [
    "I need to test the LLM in a money deposit context. First, I'll evaluate it without using any tools, and then with the tool enabled. This will help highlight the differences in performance."
   ]
  },
  {
   "cell_type": "code",
   "execution_count": 15,
   "metadata": {},
   "outputs": [
    {
     "data": {
      "text/plain": [
       "AIMessage(content=\"Please note that I am a large language model, an AI.  I cannot directly access or interact with any real bank accounts. I cannot make deposits for you.\\n\\nTo deposit $1000 into account 123456 for John Doe, you will need to use one of the methods provided by the financial institution holding the account. This could include:\\n\\n* **Online Banking:** Log into your online banking account and use the transfer or deposit feature.\\n* **Mobile Banking App:** Use the bank's mobile app to make a transfer or deposit.\\n* **ATM Deposit:**  Deposit cash or checks at an ATM associated with the account's bank.\\n* **In-Person Deposit:** Visit a branch of the bank and make a deposit with a teller.\\n* **Mail a Check:** Mail a check payable to John Doe to the bank's address (be sure to include the account number).\\n* **Wire Transfer:** Initiate a wire transfer through your bank to John Doe's account.\\n\\n\\nYou'll need to ensure you have the necessary information and authorization to deposit money into the account.  If you are not the account holder, you may need John Doe's permission.  Contact the bank directly if you have any questions or encounter any issues.\\n\", additional_kwargs={}, response_metadata={'prompt_feedback': {'block_reason': 0, 'safety_ratings': []}, 'finish_reason': 'STOP', 'safety_ratings': []}, id='run-fdc619e6-fc6d-4c8a-8687-9cbdb53903ab-0', usage_metadata={'input_tokens': 22, 'output_tokens': 265, 'total_tokens': 287, 'input_token_details': {'cache_read': 0}})"
      ]
     },
     "execution_count": 15,
     "metadata": {},
     "output_type": "execute_result"
    }
   ],
   "source": [
    "# Note: I'm invoking LLM without tool\n",
    "llm.invoke(\"I want to deposit 1000 to account 123456 of John Doe\")"
   ]
  },
  {
   "cell_type": "code",
   "execution_count": 16,
   "metadata": {},
   "outputs": [
    {
     "data": {
      "text/plain": [
       "AIMessage(content='', additional_kwargs={'function_call': {'name': 'deposit_money', 'arguments': '{\"acc_holder_name\": \"John Doe\", \"amount\": 1000.0, \"acc_number\": \"123456\"}'}}, response_metadata={'prompt_feedback': {'block_reason': 0, 'safety_ratings': []}, 'finish_reason': 'STOP', 'safety_ratings': []}, id='run-a728ba5a-3150-48a4-8e1c-a880c6f27b6e-0', tool_calls=[{'name': 'deposit_money', 'args': {'acc_holder_name': 'John Doe', 'amount': 1000.0, 'acc_number': '123456'}, 'id': 'e1a4f897-73f6-4858-a6b6-97387eb291da', 'type': 'tool_call'}], usage_metadata={'input_tokens': 119, 'output_tokens': 20, 'total_tokens': 139, 'input_token_details': {'cache_read': 0}})"
      ]
     },
     "execution_count": 16,
     "metadata": {},
     "output_type": "execute_result"
    }
   ],
   "source": [
    "# Note: I'm invoking LLM with tool\n",
    "llm_t.invoke(\"I want to deposit 1000 to account 123456 of John Doe\")"
   ]
  },
  {
   "cell_type": "markdown",
   "metadata": {},
   "source": [
    "As you can see, when the LLM is invoked without the tool, it doesn't understand the 'money deposit' context, and the `AIMessage` response doesn't contain any additional arguments for any tool.\n",
    "\n",
    "However, when the LLM is invoked with the tool enabled, it correctly understands the 'money deposit' context, and the `AIMessage` response includes additional arguments for the tool that was called."
   ]
  }
 ],
 "metadata": {
  "kernelspec": {
   "display_name": "Python 3",
   "language": "python",
   "name": "python3"
  },
  "language_info": {
   "codemirror_mode": {
    "name": "ipython",
    "version": 3
   },
   "file_extension": ".py",
   "mimetype": "text/x-python",
   "name": "python",
   "nbconvert_exporter": "python",
   "pygments_lexer": "ipython3",
   "version": "3.13.0"
  }
 },
 "nbformat": 4,
 "nbformat_minor": 2
}
