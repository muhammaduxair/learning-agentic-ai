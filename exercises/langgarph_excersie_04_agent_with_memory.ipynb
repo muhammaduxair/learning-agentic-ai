{
 "cells": [
  {
   "cell_type": "markdown",
   "metadata": {},
   "source": [
    "## Agent with Memory\n",
    "\n",
    "Let's add a `MemorySaver` to retain previous results, enabling actions based on prior outputs.\n",
    "\n",
    "---\n",
    "\n",
    "installing core dependencies"
   ]
  },
  {
   "cell_type": "code",
   "execution_count": 1,
   "metadata": {},
   "outputs": [],
   "source": [
    "%%capture --no-stderr\n",
    "%pip install -q langchain_google_genai langchain_core langgraph langchain_community"
   ]
  },
  {
   "cell_type": "markdown",
   "metadata": {},
   "source": [
    "If you're using google colab so load environment in that way"
   ]
  },
  {
   "cell_type": "code",
   "execution_count": null,
   "metadata": {},
   "outputs": [],
   "source": [
    "import os\n",
    "from google.colab import userdata\n",
    "\n",
    "os.environ['GOOGLE_API_KEY'] = userdata.get('GEMINI_API_KEY')"
   ]
  },
  {
   "cell_type": "markdown",
   "metadata": {},
   "source": [
    "if you're working locally so you need to load environment in that way"
   ]
  },
  {
   "cell_type": "code",
   "execution_count": 2,
   "metadata": {},
   "outputs": [],
   "source": [
    "%%capture --no-stderr\n",
    "%pip install python-dotenv"
   ]
  },
  {
   "cell_type": "markdown",
   "metadata": {},
   "source": [
    "create `.env` file in project directory"
   ]
  },
  {
   "cell_type": "code",
   "execution_count": 3,
   "metadata": {},
   "outputs": [],
   "source": [
    "from dotenv import load_dotenv\n",
    "import os\n",
    "\n",
    "load_dotenv()  # Load variables from .env file\n",
    "\n",
    "os.environ['GOOGLE_API_KEY'] = os.getenv('GOOGLE_API_KEY')"
   ]
  },
  {
   "cell_type": "markdown",
   "metadata": {},
   "source": [
    "I'm using Gemini Model, so you can use what you like, make sure to install langchain specific package for require Model, and set `API_KEY` accordingly\n",
    "\n",
    "- Now Initializing Gemini LLM"
   ]
  },
  {
   "cell_type": "code",
   "execution_count": 4,
   "metadata": {},
   "outputs": [],
   "source": [
    "from langchain_google_genai import ChatGoogleGenerativeAI\n",
    "\n",
    "llm = ChatGoogleGenerativeAI(model=\"gemini-1.5-pro\", temprature=0)"
   ]
  },
  {
   "cell_type": "markdown",
   "metadata": {},
   "source": [
    "#### Creating Tools for Use with LLMs"
   ]
  },
  {
   "cell_type": "code",
   "execution_count": 5,
   "metadata": {},
   "outputs": [],
   "source": [
    "\n",
    "# Please add DOCSTRING to the function, so LLM can understand the function\n",
    "def multiply(a: int, b: int) -> int:\n",
    "    \"\"\"\n",
    "    Multiplies two integers and returns the result.\n",
    "\n",
    "    Args:\n",
    "        a (int): The first integer.\n",
    "        b (int): The second integer.\n",
    "\n",
    "    Returns:\n",
    "        int: The product of the two integers.\n",
    "\n",
    "    Example:\n",
    "        >>> multiply(3, 4)\n",
    "        12\n",
    "        >>> multiply(-2, 5)\n",
    "        -10\n",
    "    \"\"\"\n",
    "    return a * b\n",
    "\n",
    "\n",
    "def divide(a: int, b: int) -> float:\n",
    "    \"\"\"\n",
    "    Divides two integers and returns the result.\n",
    "\n",
    "    Args:\n",
    "        a (int): The dividend.\n",
    "        b (int): The divisor.\n",
    "\n",
    "    Returns:\n",
    "        float: The quotient of the two integers.\n",
    "\n",
    "    Example:\n",
    "        >>> divide(10, 2)\n",
    "        5.0\n",
    "        >>> divide(5, 2)\n",
    "        2.5\n",
    "    \"\"\"\n",
    "    return a / b\n",
    "\n",
    "def add(a: int, b: int) -> int:\n",
    "    \"\"\"\n",
    "    Adds two integers and returns the result.\n",
    "\n",
    "    Args:\n",
    "        a (int): The first integer.\n",
    "        b (int): The second integer.\n",
    "\n",
    "    Returns:\n",
    "        int: The sum of the two integers.\n",
    "\n",
    "    Example:\n",
    "        >>> add(3, 4)\n",
    "        7\n",
    "        >>> add(-2, 5)\n",
    "        3\n",
    "    \"\"\"\n",
    "    return a + b"
   ]
  },
  {
   "cell_type": "markdown",
   "metadata": {},
   "source": [
    "Binding this tool with an LLM."
   ]
  },
  {
   "cell_type": "code",
   "execution_count": null,
   "metadata": {},
   "outputs": [],
   "source": [
    "tools = [multiply, divide, add]\n",
    "llm_with_tools = llm.bind_tools(tools)"
   ]
  },
  {
   "cell_type": "markdown",
   "metadata": {},
   "source": [
    "#### Building the Graph with LangGraph"
   ]
  },
  {
   "cell_type": "code",
   "execution_count": 13,
   "metadata": {},
   "outputs": [],
   "source": [
    "from langgraph.graph.state import StateGraph, CompiledStateGraph, START\n",
    "from langgraph.graph.message import MessagesState\n",
    "from langgraph.prebuilt import ToolNode, tools_condition\n",
    "from langchain_core.messages import HumanMessage, SystemMessage\n",
    "from langgraph.checkpoint.memory import MemorySaver\n",
    "\n",
    "# if you're just working with messages so use prebuilt `MessagesState` by langgraph, other wise you can create your own state\n",
    "builder: StateGraph = StateGraph(MessagesState)"
   ]
  },
  {
   "cell_type": "markdown",
   "metadata": {},
   "source": [
    "creating node for graph"
   ]
  },
  {
   "cell_type": "code",
   "execution_count": 14,
   "metadata": {},
   "outputs": [],
   "source": [
    "system_msg = SystemMessage(\"You are a helpfull assistant tasked with performing artithmetic operations on a set of inputs.\")\n",
    "\n",
    "def assistant(state:MessagesState) -> MessagesState:\n",
    "    return {'messages': [llm_with_tools.invoke([system_msg] + state['messages'])]}"
   ]
  },
  {
   "cell_type": "markdown",
   "metadata": {},
   "source": [
    "While creating the graph, ensure you include your tools using `ToolNode`. Add a conditional edge: if the context is not related to tool calling, the system should move to the end node; otherwise, it will proceed to call the tool."
   ]
  },
  {
   "cell_type": "code",
   "execution_count": 15,
   "metadata": {},
   "outputs": [],
   "source": [
    "# Adding Nodes\n",
    "builder.add_node('assistant', assistant)\n",
    "builder.add_node('tools', ToolNode(tools))\n",
    "\n",
    "# Adding Edges\n",
    "builder.add_edge(START, 'assistant')\n",
    "builder.add_conditional_edges('assistant', tools_condition)\n",
    "\n",
    "# this will back to the assistant node after the tool is executed\n",
    "builder.add_edge('tools', 'assistant')\n",
    "\n",
    "# let's add the memory to the graph\n",
    "memory = MemorySaver() # Excersise #3: Main Task\n",
    "\n",
    "# Compiling the graph and add memory in checkpointer\n",
    "graph: CompiledStateGraph = builder.compile(checkpointer=memory)"
   ]
  },
  {
   "cell_type": "markdown",
   "metadata": {},
   "source": [
    "##### Displaying the Graph Structure\n",
    "\n",
    "The following code visualizes the compiled graph using Mermaid PNG"
   ]
  },
  {
   "cell_type": "code",
   "execution_count": 16,
   "metadata": {},
   "outputs": [
    {
     "data": {
      "image/png": "[encoded data removed]",
      "text/plain": [
       "<IPython.core.display.Image object>"
      ]
     },
     "metadata": {},
     "output_type": "display_data"
    }
   ],
   "source": [
    "from IPython.display import display, Image\n",
    "\n",
    "display(Image(graph.get_graph().draw_mermaid_png()))"
   ]
  },
  {
   "cell_type": "markdown",
   "metadata": {},
   "source": [
    "Now, I need to pass a context that can execute a tool. Then, I'll invoke the graph again to calculate values based on the previous result. \n",
    "\n",
    "Without using `MemorySaver`, the previous thread value can't be retained. Therefore, we need to ensure all invocations occur within a single thread to maintain continuity."
   ]
  },
  {
   "cell_type": "code",
   "execution_count": 17,
   "metadata": {},
   "outputs": [],
   "source": [
    "# specify a thread config\n",
    "thread = {\"configurable\": {\"thread_id\": \"1\"}}"
   ]
  },
  {
   "cell_type": "code",
   "execution_count": 18,
   "metadata": {},
   "outputs": [
    {
     "name": "stdout",
     "output_type": "stream",
     "text": [
      "================================\u001b[1m Human Message \u001b[0m=================================\n",
      "Name: User\n",
      "\n",
      "Multiply 5 by 6\n",
      "==================================\u001b[1m Ai Message \u001b[0m==================================\n",
      "Tool Calls:\n",
      "  multiply (c2d56466-4d4d-44ed-a5f7-5c43be5d7868)\n",
      " Call ID: c2d56466-4d4d-44ed-a5f7-5c43be5d7868\n",
      "  Args:\n",
      "    a: 5.0\n",
      "    b: 6.0\n",
      "=================================\u001b[1m Tool Message \u001b[0m=================================\n",
      "Name: multiply\n",
      "\n",
      "30\n",
      "==================================\u001b[1m Ai Message \u001b[0m==================================\n",
      "\n",
      "30\n"
     ]
    }
   ],
   "source": [
    "# specify an input message\n",
    "message = HumanMessage(\"Multiply 5 by 6\", name=\"User\")\n",
    "\n",
    "result = graph.invoke({'messages':[message]}, thread)\n",
    "\n",
    "for message in result['messages']:\n",
    "    message.pretty_print()"
   ]
  },
  {
   "cell_type": "code",
   "execution_count": 19,
   "metadata": {},
   "outputs": [
    {
     "name": "stdout",
     "output_type": "stream",
     "text": [
      "================================\u001b[1m Human Message \u001b[0m=================================\n",
      "Name: User\n",
      "\n",
      "Multiply 5 by 6\n",
      "==================================\u001b[1m Ai Message \u001b[0m==================================\n",
      "Tool Calls:\n",
      "  multiply (c2d56466-4d4d-44ed-a5f7-5c43be5d7868)\n",
      " Call ID: c2d56466-4d4d-44ed-a5f7-5c43be5d7868\n",
      "  Args:\n",
      "    a: 5.0\n",
      "    b: 6.0\n",
      "=================================\u001b[1m Tool Message \u001b[0m=================================\n",
      "Name: multiply\n",
      "\n",
      "30\n",
      "==================================\u001b[1m Ai Message \u001b[0m==================================\n",
      "\n",
      "30\n",
      "================================\u001b[1m Human Message \u001b[0m=================================\n",
      "Name: User\n",
      "\n",
      "Add 10 to the output\n",
      "==================================\u001b[1m Ai Message \u001b[0m==================================\n",
      "Tool Calls:\n",
      "  add (338dd0a0-a940-4e83-8ac2-5285bbbffc58)\n",
      " Call ID: 338dd0a0-a940-4e83-8ac2-5285bbbffc58\n",
      "  Args:\n",
      "    a: 30.0\n",
      "    b: 10.0\n",
      "=================================\u001b[1m Tool Message \u001b[0m=================================\n",
      "Name: add\n",
      "\n",
      "40\n",
      "==================================\u001b[1m Ai Message \u001b[0m==================================\n",
      "\n",
      "40\n"
     ]
    }
   ],
   "source": [
    "# specify an input message for next operation, make sure to pass the thread config so that graph can get previous thread data\n",
    "message = HumanMessage(\"Add 10 to the output\", name=\"User\")\n",
    "\n",
    "result = graph.invoke({'messages':[message]}, thread)\n",
    "\n",
    "for message in result['messages']:\n",
    "    message.pretty_print()"
   ]
  }
 ],
 "metadata": {
  "kernelspec": {
   "display_name": "Python 3",
   "language": "python",
   "name": "python3"
  },
  "language_info": {
   "codemirror_mode": {
    "name": "ipython",
    "version": 3
   },
   "file_extension": ".py",
   "mimetype": "text/x-python",
   "name": "python",
   "nbconvert_exporter": "python",
   "pygments_lexer": "ipython3",
   "version": "3.13.0"
  }
 },
 "nbformat": 4,
 "nbformat_minor": 2
}
