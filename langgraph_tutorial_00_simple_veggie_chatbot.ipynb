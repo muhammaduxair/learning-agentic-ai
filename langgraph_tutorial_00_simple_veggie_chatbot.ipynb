{
  "cells": [
    {
      "cell_type": "markdown",
      "metadata": {},
      "source": [
        "### First Excersie of Langraph tutorial - Creating Veggie Chatbot\n",
        "\n",
        "---\n",
        "\n",
        "installing core dependencies"
      ]
    },
    {
      "cell_type": "code",
      "execution_count": 1,
      "metadata": {
        "id": "VJ2mbC1Qag55"
      },
      "outputs": [],
      "source": [
        "%%capture --no-stderr\n",
        "%pip install -q langchain_google_genai langchain_core langgraph langchain_community"
      ]
    },
    {
      "cell_type": "markdown",
      "metadata": {},
      "source": [
        "If you're using google colab so load environment in that way"
      ]
    },
    {
      "cell_type": "code",
      "execution_count": null,
      "metadata": {
        "id": "S8AQJoX2EBmX"
      },
      "outputs": [],
      "source": [
        "import os\n",
        "from google.colab import userdata\n",
        "\n",
        "os.environ['GOOGLE_API_KEY'] = userdata.get('GEMINI_API_KEY')"
      ]
    },
    {
      "cell_type": "markdown",
      "metadata": {},
      "source": [
        "if you're working locally so you need to load environment in that way"
      ]
    },
    {
      "cell_type": "code",
      "execution_count": 2,
      "metadata": {},
      "outputs": [],
      "source": [
        "%%capture --no-stderr\n",
        "%pip install python-dotenv"
      ]
    },
    {
      "cell_type": "markdown",
      "metadata": {},
      "source": [
        "create `.env` file in project directory"
      ]
    },
    {
      "cell_type": "code",
      "execution_count": 3,
      "metadata": {},
      "outputs": [],
      "source": [
        "from dotenv import load_dotenv\n",
        "import os\n",
        "\n",
        "load_dotenv()  # Load variables from .env file\n",
        "\n",
        "os.environ['GOOGLE_API_KEY'] = os.getenv('GOOGLE_API_KEY')"
      ]
    },
    {
      "cell_type": "markdown",
      "metadata": {},
      "source": [
        "I'm using Gemini Model, so you can use what you like, make sure to install langchain specific package for require Model, and set `API_KEY` accordingly\n",
        "\n",
        "- Now Initializing Gemini LLM"
      ]
    },
    {
      "cell_type": "code",
      "execution_count": 5,
      "metadata": {
        "id": "-vv6RYddDgxz"
      },
      "outputs": [],
      "source": [
        "from langchain_google_genai import ChatGoogleGenerativeAI\n",
        "\n",
        "llm = ChatGoogleGenerativeAI(model=\"gemini-1.5-pro\", temprature=0.4)"
      ]
    },
    {
      "cell_type": "markdown",
      "metadata": {},
      "source": [
        "I'm using langgraph feature state graph, so for that I'm creating class for my state management"
      ]
    },
    {
      "cell_type": "code",
      "execution_count": 6,
      "metadata": {
        "id": "whWOXt5kEDVK"
      },
      "outputs": [],
      "source": [
        "from typing_extensions import TypedDict\n",
        "\n",
        "class FirstLLMAgentState(TypedDict):\n",
        "  message: str\n",
        "  prompt: str\n",
        "  result: str"
      ]
    },
    {
      "cell_type": "markdown",
      "metadata": {},
      "source": [
        "This is the first node, where the model is being trained to handle only vegetable- and fruit-related topics. It will provide detailed explanations for these topics based on user input. For any questions outside this domain, it will respond with a predefined message indicating its specialized scope."
      ]
    },
    {
      "cell_type": "code",
      "execution_count": 7,
      "metadata": {
        "id": "u0pakDydGJIH"
      },
      "outputs": [],
      "source": [
        "def node_init_train(state: FirstLLMAgentState) -> FirstLLMAgentState:\n",
        "  pre_text_for_prompt = (\n",
        "      \"You are an AI agent with specialized knowledge about fruits and vegetables \"\n",
        "      \"When asked about any fruit or vegetable, provide a detailed explanation based on the context provided by the user: {user_context}. \"\n",
        "      \"For any questions outside of fruits and vegetables, respond with: 'I don't know about this topic, I'm just a veggie agent.'\"\n",
        "  )\n",
        "  message = state.get('message')\n",
        "\n",
        "  return {'message': message, 'prompt': pre_text_for_prompt.format(user_context=message)}"
      ]
    },
    {
      "cell_type": "markdown",
      "metadata": {},
      "source": [
        "This function invokes the language model (LLM) using the provided prompt from the state and returns the model's response."
      ]
    },
    {
      "cell_type": "code",
      "execution_count": 8,
      "metadata": {
        "id": "Vm1rhYxZO4tI"
      },
      "outputs": [],
      "source": [
        "def call_llm(state: FirstLLMAgentState) -> FirstLLMAgentState:\n",
        "  llm_result = llm.invoke(state.get('prompt'))\n",
        "  return {'result': llm_result.content}"
      ]
    },
    {
      "cell_type": "markdown",
      "metadata": {},
      "source": [
        "##### State Graph Definition and Compilation\n",
        "\n",
        "This section defines and compiles a state graph using LangGraph. The graph consists of nodes that handle specific tasks and edges that determine the execution flow."
      ]
    },
    {
      "cell_type": "code",
      "execution_count": 9,
      "metadata": {
        "id": "DyXG_uSgLEFc"
      },
      "outputs": [],
      "source": [
        "from langgraph.graph import START, END, StateGraph\n",
        "from langgraph.graph.state import CompiledStateGraph\n",
        "\n",
        "builder: StateGraph = StateGraph(state_schema=FirstLLMAgentState)\n",
        "\n",
        "# adding nodes\n",
        "builder.add_node('n1', node_init_train)\n",
        "builder.add_node('n2', call_llm)\n",
        "\n",
        "# adding edges\n",
        "builder.add_edge(START, 'n1')\n",
        "builder.add_edge('n1', 'n2')\n",
        "builder.add_edge('n2', END)\n",
        "\n",
        "# making graph\n",
        "graph: CompiledStateGraph = builder.compile()"
      ]
    },
    {
      "cell_type": "markdown",
      "metadata": {},
      "source": [
        "##### Displaying the Graph Structure\n",
        "\n",
        "The following code visualizes the compiled graph using Mermaid PNG"
      ]
    },
    {
      "cell_type": "code",
      "execution_count": 10,
      "metadata": {
        "colab": {
          "base_uri": "https://localhost:8080/",
          "height": 350
        },
        "id": "34pnHzcoMLyV",
        "outputId": "14c00ca4-08dc-4b88-e757-639feebca0a8"
      },
      "outputs": [
        {
          "data": {
            "image/png": "[encoded data removed]",
            "text/plain": [
              "<IPython.core.display.Image object>"
            ]
          },
          "metadata": {},
          "output_type": "display_data"
        }
      ],
      "source": [
        "from IPython.display import display, Image\n",
        "\n",
        "display(Image(graph.get_graph().draw_mermaid_png()))"
      ]
    },
    {
      "cell_type": "markdown",
      "metadata": {},
      "source": [
        "The following code runs the compiled graph with an input message and prints the result:"
      ]
    },
    {
      "cell_type": "code",
      "execution_count": 11,
      "metadata": {
        "colab": {
          "base_uri": "https://localhost:8080/"
        },
        "id": "0THIwVg6Mu_t",
        "outputId": "063a77a5-ab70-49e7-e8f8-eea993d60f75"
      },
      "outputs": [
        {
          "name": "stdout",
          "output_type": "stream",
          "text": [
            "Question: What's up?\n",
            "Answer: Okay, I'm ready to talk produce!  Ask me anything about fruits and vegetables.\n",
            "\n"
          ]
        }
      ],
      "source": [
        "result: FirstLLMAgentState = graph.invoke({\"message\": \"What's up?\"})\n",
        "\n",
        "print(\"Question: \" + result.get('message'))\n",
        "print(\"Answer: \" + result.get('result'))"
      ]
    }
  ],
  "metadata": {
    "colab": {
      "provenance": [],
      "toc_visible": true
    },
    "kernelspec": {
      "display_name": "Python 3",
      "name": "python3"
    },
    "language_info": {
      "codemirror_mode": {
        "name": "ipython",
        "version": 3
      },
      "file_extension": ".py",
      "mimetype": "text/x-python",
      "name": "python",
      "nbconvert_exporter": "python",
      "pygments_lexer": "ipython3",
      "version": "3.13.0"
    }
  },
  "nbformat": 4,
  "nbformat_minor": 0
}
